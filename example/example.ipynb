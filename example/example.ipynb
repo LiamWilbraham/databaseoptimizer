{
 "cells": [
  {
   "cell_type": "code",
   "execution_count": 1,
   "metadata": {},
   "outputs": [],
   "source": [
    "# Import module\n",
    "from databaseoptimizer import DatabaseOptimizer"
   ]
  },
  {
   "cell_type": "code",
   "execution_count": 2,
   "metadata": {},
   "outputs": [],
   "source": [
    "# Import database as a list of SMILES\n",
    "with open('example-database.csv') as f:\n",
    "    smiles_list = [line.split()[0] for line in f]"
   ]
  },
  {
   "cell_type": "code",
   "execution_count": 3,
   "metadata": {},
   "outputs": [
    {
     "name": "stdout",
     "output_type": "stream",
     "text": [
      "Calculating fingerprints...\n",
      "Fingerprint calculations complete...\n",
      "500 molecules added to library\n",
      "1000 molecules added to library\n",
      "1500 molecules added to library\n",
      "2000 molecules added to library\n"
     ]
    }
   ],
   "source": [
    "# Initialize and run optimizer\n",
    "optimizer = DatabaseOptimizer(smiles_list, 2000, fp_rad=2, fp_bits=1024)\n",
    "optimizer.optimize()"
   ]
  },
  {
   "cell_type": "code",
   "execution_count": 4,
   "metadata": {
    "scrolled": true
   },
   "outputs": [
    {
     "data": {
      "text/plain": [
       "2000"
      ]
     },
     "execution_count": 4,
     "metadata": {},
     "output_type": "execute_result"
    }
   ],
   "source": [
    "len(optimizer.optimized_library)"
   ]
  }
 ],
 "metadata": {
  "kernelspec": {
   "display_name": "Python 3",
   "language": "python",
   "name": "python3"
  },
  "language_info": {
   "codemirror_mode": {
    "name": "ipython",
    "version": 3
   },
   "file_extension": ".py",
   "mimetype": "text/x-python",
   "name": "python",
   "nbconvert_exporter": "python",
   "pygments_lexer": "ipython3",
   "version": "3.6.8"
  }
 },
 "nbformat": 4,
 "nbformat_minor": 2
}
