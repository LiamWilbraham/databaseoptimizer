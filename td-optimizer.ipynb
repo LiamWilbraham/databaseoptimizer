{
 "cells": [
  {
   "cell_type": "code",
   "execution_count": 1,
   "metadata": {
    "scrolled": false
   },
   "outputs": [],
   "source": [
    "from rdkit import Chem\n",
    "from rdkit.Chem import AllChem\n",
    "from rdkit import DataStructs\n",
    "import numpy as np\n",
    "from random import randint\n",
    "import pandas as pd"
   ]
  },
  {
   "cell_type": "code",
   "execution_count": 2,
   "metadata": {},
   "outputs": [],
   "source": [
    "class DatabaseOptimizer:\n",
    "    \n",
    "    def __init__(self, \n",
    "                 smiles_list,\n",
    "                 desired_library_size,\n",
    "                 fp_rad=2,\n",
    "                 fp_bits=1024):\n",
    "        \n",
    "        self.smiles_list = smiles_list\n",
    "        self.desired_library_size = desired_library_size\n",
    "        self.rad = fp_rad\n",
    "        self.bits = fp_bits\n",
    "        \n",
    "        self.n_molecules = len(smiles_list)\n",
    "        self.fp_dict = self.calc_fp_dict()\n",
    "        self.sums = np.zeros((self.n_molecules))\n",
    "        self.optimized_library = []\n",
    "\n",
    "\n",
    "    def optimize(self):\n",
    "        index = randint(0, self.n_molecules)\n",
    "        self.update_subsets(index)\n",
    "        self.optimized_library.append(smiles_list[index])\n",
    "\n",
    "        n = 1\n",
    "        while n < self.desired_library_size:\n",
    "            next_molecule, index = self.next_molecule()\n",
    "            self.update_subsets(index)\n",
    "\n",
    "            self.optimized_library.append(next_molecule)\n",
    "            \n",
    "            if n % 500 == 0:\n",
    "                print('{} molecules added to library'.format(n))\n",
    "            n += 1\n",
    "           \n",
    "        \n",
    "    def update_subsets(self, index):\n",
    "        similarities = np.array([self.calc_similarity(smiles_list[index], smiles2) for smiles2 in self.smiles_list])\n",
    "        self.sums += similarities\n",
    "            \n",
    "        del self.smiles_list[index]\n",
    "        self.sums = np.delete(self.sums, index, 0)        \n",
    "        \n",
    "        \n",
    "    def calc_similarity(self, smi1, smi2):\n",
    "        similarity = DataStructs.TanimotoSimilarity(self.fp_dict[smi1], self.fp_dict[smi2])\n",
    "        return similarity\n",
    "        \n",
    "            \n",
    "    def next_molecule(self):\n",
    "        index = self.sums.argsort()[0] \n",
    "        next_molecule = smiles_list[index]\n",
    "        return next_molecule, index\n",
    "    \n",
    "\n",
    "    def calc_fp_dict(self):\n",
    "        print('Calculating fingerprints...')\n",
    "        fp_dict = {smiles:self.calc_fp(smiles) for smiles in self.smiles_list}\n",
    "        print('Fingerprint calculations complete...')\n",
    "        return fp_dict\n",
    "\n",
    "\n",
    "    def calc_fp(self, smiles):\n",
    "        mol = Chem.MolFromSmiles(smiles)\n",
    "        fp = AllChem.GetMorganFingerprintAsBitVect(mol, self.rad, nBits=self.bits)\n",
    "        return fp\n",
    "\n",
    "    \n",
    "    def calc_library_similarities(self, library):\n",
    "        n = len(library)\n",
    "        similarities = []\n",
    "        for i in range(n):\n",
    "            for j in range(i+1, n):\n",
    "                similarities.append(self.calc_similarity(library[i], library[j]))\n",
    "        return similarities\n",
    "\n"
   ]
  },
  {
   "cell_type": "code",
   "execution_count": 3,
   "metadata": {},
   "outputs": [],
   "source": [
    "with open('./monomer-smiles-substituted.csv') as f:\n",
    "    smiles_list = [line.split()[1] for line in f]\n",
    "    \n",
    "random_set = pd.DataFrame(smiles_list).sample(50000)"
   ]
  },
  {
   "cell_type": "code",
   "execution_count": null,
   "metadata": {
    "scrolled": true
   },
   "outputs": [
    {
     "name": "stdout",
     "output_type": "stream",
     "text": [
      "Calculating fingerprints...\n",
      "Fingerprint calculations complete...\n",
      "500 molecules added to library\n",
      "1000 molecules added to library\n",
      "1500 molecules added to library\n",
      "2000 molecules added to library\n",
      "2500 molecules added to library\n",
      "3000 molecules added to library\n",
      "3500 molecules added to library\n"
     ]
    }
   ],
   "source": [
    "optimizer = DatabaseOptimizer(smiles_list, 50000)\n",
    "optimizer.optimize()"
   ]
  },
  {
   "cell_type": "code",
   "execution_count": 28,
   "metadata": {},
   "outputs": [],
   "source": [
    "x = [i for i in random_set[0]]"
   ]
  },
  {
   "cell_type": "code",
   "execution_count": 29,
   "metadata": {},
   "outputs": [],
   "source": [
    "pre_opt_sims = optimizer.calc_library_similarities(x)\n",
    "post_opt_sims = optimizer.calc_library_similarities(optimizer.optimized_library)"
   ]
  },
  {
   "cell_type": "code",
   "execution_count": 30,
   "metadata": {},
   "outputs": [
    {
     "data": {
      "image/png": "[encoded data removed]",
      "text/plain": [
       "<Figure size 720x360 with 2 Axes>"
      ]
     },
     "metadata": {
      "needs_background": "light"
     },
     "output_type": "display_data"
    }
   ],
   "source": [
    "import matplotlib.pyplot as plt\n",
    "\n",
    "fig, ax = plt.subplots(1, 2, figsize=(10, 5))\n",
    "\n",
    "ax[0].hist(pre_opt_sims, bins=100)\n",
    "ax[1].hist(post_opt_sims, bins=100)\n",
    "\n",
    "plt.show()"
   ]
  },
  {
   "cell_type": "code",
   "execution_count": 31,
   "metadata": {},
   "outputs": [
    {
     "name": "stdout",
     "output_type": "stream",
     "text": [
      "0.17351505741122633\n",
      "0.12477675686837875\n"
     ]
    }
   ],
   "source": [
    "print(np.sum(pre_opt_sims)/len(post_opt_sims))\n",
    "print(np.sum(post_opt_sims)/len(post_opt_sims))\n"
   ]
  },
  {
   "cell_type": "code",
   "execution_count": null,
   "metadata": {},
   "outputs": [],
   "source": []
  }
 ],
 "metadata": {
  "kernelspec": {
   "display_name": "Python 3",
   "language": "python",
   "name": "python3"
  },
  "language_info": {
   "codemirror_mode": {
    "name": "ipython",
    "version": 3
   },
   "file_extension": ".py",
   "mimetype": "text/x-python",
   "name": "python",
   "nbconvert_exporter": "python",
   "pygments_lexer": "ipython3",
   "version": "3.6.8"
  }
 },
 "nbformat": 4,
 "nbformat_minor": 2
}
