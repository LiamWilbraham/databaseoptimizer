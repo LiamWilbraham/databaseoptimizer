{
 "cells": [
  {
   "cell_type": "code",
   "execution_count": 1,
   "metadata": {
    "scrolled": false
   },
   "outputs": [],
   "source": [
    "from rdkit import Chem\n",
    "from rdkit.Chem import AllChem\n",
    "from rdkit import DataStructs\n",
    "import numpy as np\n",
    "\n",
    "smiles_list = [\n",
    "          'BrC1=CC=C(Br)C=C1',\n",
    "          'BrC2=CC=C(C=C(Br)C=C3)C3=C2',\n",
    "          'BrC4=CC=C(Br)N4',\n",
    "          'BrC5=CN=C(Br)N5',\n",
    "          'BrC6=NN=C(Br)N6',\n",
    "          'BrC7=CC=C(Br)O7',\n",
    "          'BrC8=CN=C(Br)O8',\n",
    "          'BrC9=NN=C(Br)O9',\n",
    "          'BrC%10=CC=C(Br)S%10',\n",
    "          'BrC%11=CN=C(Br)S%11',\n",
    "          'BrC%12=NN=C(Br)S%12',\n",
    "          'BrC%13=CC=C(Br)S%13(=O)=O',\n",
    "          'BrC%14=CN=C(Br)S%14(=O)=O',\n",
    "          'BrC%15=NN=C(Br)S%15(=O)=O',\n",
    "          'BrC%16=CC=C(Br)C=N%16',\n",
    "          'BrC%17=CN=C(Br)C=N%17',\n",
    "          'BrC1=CC(OC2=C3NC(Br)=C2)=C3N1',\n",
    "          'BrC1=CC(SC2=C3OC(Br)=C2)=C3O1',\n",
    "          'BrC1=CC(NC2=C3OC(Br)=C2)=C3O1',\n",
    "          'BrC1=CC2=C(C(C=CC(Br)=C3)=C3C2)C=C1',\n",
    "          'BrC1=CC2=C(C(C=CC(Br)=C3)=C3N2)C=C1',\n",
    "          'BrC1=CC2=C(C(C=CC(Br)=C3)=C3O2)C=C1',\n",
    "          'BrC1=CC2=C(C(C=CC(Br)=C3)=C3S2)C=C1',\n",
    "          'BrC1=CC2=C(C(C=CC(Br)=C3)=C3S2(=O)=O)C=C1',\n",
    "          'BrC1=CC(S(C2=C3SC(Br)=C2)(=O)=O)=C3S1',\n",
    "          'BrC1=CC(C=C(S(C(Br)=C2)(=O)=O)C2=C2)=C2S1(=O)=O']"
   ]
  },
  {
   "cell_type": "code",
   "execution_count": 5,
   "metadata": {},
   "outputs": [],
   "source": [
    "def build_similarity_matrix(smiles_list, rad, bits):\n",
    "    \n",
    "    n_molecules = len(smiles_list)\n",
    "    similarity_matrix = np.zeros((n_molecules, n_molecules))\n",
    "    fp_dict = calc_fp_dict(smiles_list, rad, bits)\n",
    "    \n",
    "    for i in range(n_molecules):\n",
    "        for j in range(i+1, n_molecules):\n",
    "            smi1 = smiles_list[i]\n",
    "            smi2 = smiles_list[j]\n",
    "            similarity_matrix[i][j] = calc_similarity(fp_dict, smi1, smi2)\n",
    "   \n",
    "    similarity_matrix = similarity_matrix + similarity_matrix.T\n",
    "    np.fill_diagonal(similarity_matrix, 1)\n",
    "\n",
    "    return similarity_matrix\n",
    "\n",
    "\n",
    "def calc_similarity(fp_dict, smi1, smi2):\n",
    "    similarity = DataStructs.TanimotoSimilarity(fp_dict[smi1], fp_dict[smi2])\n",
    "    return similarity\n",
    "\n",
    "\n",
    "def calc_fp_dict(smiles_list, rad, bits):\n",
    "    fp_dict = {smiles:calc_fp(smiles, rad, bits) for smiles in smiles_list}\n",
    "    return fp_dict\n",
    "\n",
    "\n",
    "def calc_fp(smiles, rad, bits):\n",
    "    mol = Chem.MolFromSmiles(smiles)\n",
    "    fp = AllChem.GetMorganFingerprintAsBitVect(mol, rad, nBits=bits)\n",
    "    return fp\n",
    "\n",
    "\n",
    "######################################################\n",
    "\n",
    "def calc_molecule_indices_to_drop(similarity_matrix):\n",
    "    n = similarity_matrix.shape[0]\n",
    "    sums = np.array([np.sum(similarity_matrix[i,:]) for i in range(n)])\n",
    "    indices = sums.argsort()[-1:][::-1]\n",
    "    return sums, indices\n"
   ]
  },
  {
   "cell_type": "code",
   "execution_count": 6,
   "metadata": {},
   "outputs": [],
   "source": [
    "similarity_matrix = build_similarity_matrix(smiles_list, 2, 1024)"
   ]
  },
  {
   "cell_type": "code",
   "execution_count": 8,
   "metadata": {},
   "outputs": [
    {
     "data": {
      "image/png": "[encoded data removed]",
      "text/plain": [
       "<Figure size 432x288 with 1 Axes>"
      ]
     },
     "metadata": {
      "needs_background": "light"
     },
     "output_type": "display_data"
    }
   ],
   "source": [
    "import matplotlib.pyplot as plt\n",
    "\n",
    "plt.hist(calc_molecule_indices_to_drop(similarity_matrix)[0], bins=50)\n",
    "plt.show()"
   ]
  },
  {
   "cell_type": "code",
   "execution_count": 9,
   "metadata": {},
   "outputs": [
    {
     "data": {
      "text/plain": [
       "(array([7.96395242, 7.29500837, 6.66183361, 6.05783405, 5.62068369,\n",
       "        6.82001543, 6.28599833, 5.81809938, 6.78876699, 6.24674432,\n",
       "        5.70584279, 6.1453466 , 5.74872286, 5.58598222, 6.79609896,\n",
       "        6.55996873, 5.86623051, 6.40704092, 6.41692225, 6.23389204,\n",
       "        7.0137206 , 6.97738396, 6.90060045, 6.82420536, 5.95086424,\n",
       "        5.60865788]), array([0]))"
      ]
     },
     "execution_count": 9,
     "metadata": {},
     "output_type": "execute_result"
    }
   ],
   "source": [
    "arr = calc_molecule_indices_to_drop(similarity_matrix)\n",
    "arr"
   ]
  },
  {
   "cell_type": "code",
   "execution_count": null,
   "metadata": {
    "collapsed": true
   },
   "outputs": [],
   "source": []
  }
 ],
 "metadata": {
  "kernelspec": {
   "display_name": "Python 3",
   "language": "python",
   "name": "python3"
  },
  "language_info": {
   "codemirror_mode": {
    "name": "ipython",
    "version": 3
   },
   "file_extension": ".py",
   "mimetype": "text/x-python",
   "name": "python",
   "nbconvert_exporter": "python",
   "pygments_lexer": "ipython3",
   "version": "3.6.8"
  }
 },
 "nbformat": 4,
 "nbformat_minor": 2
}
